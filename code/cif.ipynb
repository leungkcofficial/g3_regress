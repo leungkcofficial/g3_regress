{
 "cells": [
  {
   "cell_type": "code",
   "execution_count": 1,
   "metadata": {},
   "outputs": [
    {
     "data": {
      "text/plain": [
       "101"
      ]
     },
     "execution_count": 1,
     "metadata": {},
     "output_type": "execute_result"
    }
   ],
   "source": [
    "import gc\n",
    "import json\n",
    "import os\n",
    "import math\n",
    "import multiprocessing\n",
    "import numpy as np\n",
    "import pandas as pd\n",
    "import torch\n",
    "import importlib\n",
    "import logging\n",
    "from pathlib import Path\n",
    "from sklearn.model_selection import GroupKFold, GroupShuffleSplit\n",
    "\n",
    "# Pycox and PyTorch tuples for survival analysis\n",
    "import torchtuples as tt\n",
    "import pycox\n",
    "from pycox.preprocessing.label_transforms import LabTransDiscreteTime\n",
    "from pycox.models import CoxPH, DeepHit\n",
    "from pycox.evaluation import EvalSurv\n",
    "\n",
    "# Ray for hyperparameter tuning and distributed processing\n",
    "import ray\n",
    "from ray import tune\n",
    "from ray.tune import CLIReporter\n",
    "from ray.tune.search.bayesopt import BayesOptSearch\n",
    "from ray.tune.search.optuna import OptunaSearch\n",
    "from ray.tune.search import ConcurrencyLimiter\n",
    "from ray.tune.schedulers import ASHAScheduler, PopulationBasedTraining\n",
    "from ray.air import session\n",
    "import ray.cloudpickle as pickle\n",
    "\n",
    "# Custom modules for data handling, balancing, training, evaluation, and model architectures\n",
    "import dataloader2\n",
    "import databalancer2\n",
    "import datatrainer2\n",
    "import modeleval\n",
    "import netweaver2\n",
    "\n",
    "# Reload custom modules to ensure latest changes are available\n",
    "importlib.reload(dataloader2)\n",
    "importlib.reload(databalancer2)\n",
    "importlib.reload(datatrainer2)\n",
    "importlib.reload(modeleval)\n",
    "importlib.reload(netweaver2)\n",
    "\n",
    "# Import specific functions from custom modules to keep code clean and readable\n",
    "from netweaver2 import (\n",
    "    lstm_net_init, DHANNWrapper, LSTMWrapper, generalized_ann_net_init\n",
    ")\n",
    "from dataloader2 import (\n",
    "    load_and_transform_data, preprocess_data #stack_sequences, dh_dataset_loader\n",
    ")\n",
    "from databalancer2 import (\n",
    "    define_medoid_general, df_event_focus, rebalance_data, underbalance_data_general, medoid_cluster, \n",
    "    dh_rebalance_data\n",
    ")\n",
    "from datatrainer2 import (\n",
    "    recursive_clustering, prepare_training_data, \n",
    "    prepare_validation_data, lstm_training\n",
    ")\n",
    "from modeleval import (\n",
    "    dh_test_model, nam_dagostino_chi2, get_baseline_hazard_at_timepoints, combined_test_model\n",
    ")\n",
    "\n",
    "import psutil\n",
    "torch.cuda.empty_cache()\n",
    "gc.collect()"
   ]
  },
  {
   "cell_type": "code",
   "execution_count": 8,
   "metadata": {},
   "outputs": [
    {
     "name": "stderr",
     "output_type": "stream",
     "text": [
      "2024-11-16 00:20:21,540 - INFO - Transforming training data...\n",
      "2024-11-16 00:20:35,024 - INFO - Transforming test data...\n"
     ]
    }
   ],
   "source": [
    "# Define Constants and Load Datasets\n",
    "RANDOM_SEED = 12345\n",
    "N_SPLIT = 2\n",
    "FEATURE_COLS = ['gender', 'dm', 'ht', 'sprint', 'a1c', 'po4', 'UACR_mg_g', 'Cr', 'age', 'alb', 'ca', 'hb', 'hco3']\n",
    "DURATION_COL = 'date_from_sub_60'\n",
    "EVENT_COL = 'endpoint'\n",
    "CLUSTER_COL = 'key'\n",
    "TIME_GRID = np.array([i * 365 for i in range(6)])\n",
    "\n",
    "# Define Feature Groups\n",
    "CAT_FEATURES = ['gender', 'dm', 'ht', 'sprint']\n",
    "LOG_FEATURES = ['a1c', 'po4', 'UACR_mg_g', 'Cr']\n",
    "STANDARD_FEATURES = ['age', 'alb', 'ca', 'hb', 'hco3']\n",
    "PASSTHROUGH_FEATURES = ['key', 'date_from_sub_60', 'endpoint']\n",
    "\n",
    "# Load and Transform Data\n",
    "BASE_FILENAME = '/mnt/d/pydatascience/g3_regress/data/X/X_20240628'\n",
    "X_train_transformed, X_test_transformed = load_and_transform_data(\n",
    "    BASE_FILENAME, CAT_FEATURES, LOG_FEATURES, STANDARD_FEATURES, PASSTHROUGH_FEATURES\n",
    ")"
   ]
  },
  {
   "cell_type": "code",
   "execution_count": 24,
   "metadata": {},
   "outputs": [
    {
     "name": "stderr",
     "output_type": "stream",
     "text": [
      "/home/goma/miniconda3/envs/ai_dev/lib/python3.11/site-packages/lifelines/fitters/coxph_fitter.py:1356: StatisticalWarning: It appears your weights are not integers, possibly propensity or sampling scores then?\n",
      "It's important to know that the naive variance estimates of the coefficients are biased. Instead a) set `robust=True` in the call to `fit`, or b) use Monte Carlo to\n",
      "estimate the variances. See paper \"Variance estimation when using inverse probability of treatment weighting (IPTW) with survival analysis\"\n",
      "\n",
      "  warnings.warn(\n",
      "/home/goma/miniconda3/envs/ai_dev/lib/python3.11/site-packages/lifelines/fitters/coxph_fitter.py:1607: ConvergenceWarning: Newton-Raphson convergence completed successfully but norm(delta) is still high, 0.359. This may imply non-unique solutions to the maximum likelihood. Perhaps there is collinearity or complete separation in the dataset?\n",
      "\n",
      "  warnings.warn(\n",
      "/home/goma/miniconda3/envs/ai_dev/lib/python3.11/site-packages/lifelines/fitters/coxph_fitter.py:1356: StatisticalWarning: It appears your weights are not integers, possibly propensity or sampling scores then?\n",
      "It's important to know that the naive variance estimates of the coefficients are biased. Instead a) set `robust=True` in the call to `fit`, or b) use Monte Carlo to\n",
      "estimate the variances. See paper \"Variance estimation when using inverse probability of treatment weighting (IPTW) with survival analysis\"\n",
      "\n",
      "  warnings.warn(\n"
     ]
    },
    {
     "data": {
      "text/plain": [
       "<lifelines.CoxPHFitter: fitted with 3 total observations, 2 right-censored observations>"
      ]
     },
     "execution_count": 24,
     "metadata": {},
     "output_type": "execute_result"
    }
   ],
   "source": [
    "from lifelines import CoxPHFitter\n",
    "\n",
    "# Convert all non-target events to 0 (censored)\n",
    "X_train_transformed[\"event1\"] = X_train_transformed[EVENT_COL].apply(lambda x: 1 if x == 1 else 0)\n",
    "X_train_transformed[\"event2\"] = X_train_transformed[EVENT_COL].apply(lambda x: 1 if x == 2 else 0)\n",
    "\n",
    "class_counts = X_train_transformed[EVENT_COL].value_counts()\n",
    "X_train_transformed['weights'] = X_train_transformed[EVENT_COL].map(lambda e: 1 / class_counts[e]).values\n",
    "\n",
    "# Fit a Cox model for each event type\n",
    "cox_model_event_1 = CoxPHFitter()\n",
    "cox_model_event_1.fit(X_train_transformed[FEATURE_COLS + [DURATION_COL, 'event1', CLUSTER_COL, 'weights']], duration_col=DURATION_COL, event_col=\"event1\", cluster_col=CLUSTER_COL, weights_col=\"weights\")\n",
    "\n",
    "cox_model_event_2 = CoxPHFitter()\n",
    "cox_model_event_2.fit(X_train_transformed[FEATURE_COLS + [DURATION_COL, 'event2', CLUSTER_COL, 'weights']], duration_col=DURATION_COL, event_col=\"event2\", cluster_col=CLUSTER_COL, weights_col=\"weights\")\n",
    "\n"
   ]
  },
  {
   "cell_type": "code",
   "execution_count": 29,
   "metadata": {},
   "outputs": [
    {
     "name": "stdout",
     "output_type": "stream",
     "text": [
      "Model Summary for Event Type 1:\n",
      "               coef     exp(coef)  se(coef)  coef lower 95%  coef upper 95%  \\\n",
      "covariate                                                                     \n",
      "gender    -0.355755      0.700644  0.054498       -0.462570       -0.248941   \n",
      "dm        -0.143351      0.866450  0.058294       -0.257605       -0.029097   \n",
      "ht        -0.035341      0.965276  0.057227       -0.147503        0.076821   \n",
      "sprint    -0.164435      0.848373  0.059644       -0.281335       -0.047536   \n",
      "a1c        0.048643      1.049846  0.768265       -1.457129        1.554416   \n",
      "po4       -1.333574      0.263534  0.474542       -2.263660       -0.403488   \n",
      "UACR_mg_g  0.768474      2.156473  0.353309        0.076002        1.460947   \n",
      "Cr         9.501827  13384.161837  0.323643        8.867499       10.136156   \n",
      "age        0.144763      1.155766  0.182369       -0.212673        0.502199   \n",
      "alb        0.831519      2.296804  0.401427        0.044736        1.618302   \n",
      "ca        -2.703071      0.066999  0.455396       -3.595631       -1.810512   \n",
      "hb        -1.494495      0.224362  0.401940       -2.282284       -0.706706   \n",
      "hco3       1.334117      3.796640  0.389720        0.570279        2.097954   \n",
      "\n",
      "           exp(coef) lower 95%  exp(coef) upper 95%  cmp to          z  \\\n",
      "covariate                                                                \n",
      "gender                0.629663             0.779626     0.0  -6.527821   \n",
      "dm                    0.772900             0.971322     0.0  -2.459103   \n",
      "ht                    0.862860             1.079849     0.0  -0.617560   \n",
      "sprint                0.754776             0.953576     0.0  -2.756966   \n",
      "a1c                   0.232904             4.732322     0.0   0.063316   \n",
      "po4                   0.103969             0.667986     0.0  -2.810231   \n",
      "UACR_mg_g             1.078964             4.310038     0.0   2.175078   \n",
      "Cr                 7097.504799         25239.262691     0.0  29.358970   \n",
      "age                   0.808421             1.652351     0.0   0.793795   \n",
      "alb                   1.045751             5.044515     0.0   2.071405   \n",
      "ca                    0.027443             0.163570     0.0  -5.935651   \n",
      "hb                    0.102051             0.493266     0.0  -3.718200   \n",
      "hco3                  1.768760             8.149481     0.0   3.423267   \n",
      "\n",
      "                       p    -log2(p)  \n",
      "covariate                             \n",
      "gender      6.673320e-11   33.802804  \n",
      "dm          1.392847e-02    6.165820  \n",
      "ht          5.368652e-01    0.897368  \n",
      "sprint      5.834034e-03    7.421290  \n",
      "a1c         9.495149e-01    0.074737  \n",
      "po4         4.950598e-03    7.658182  \n",
      "UACR_mg_g   2.962429e-02    5.077076  \n",
      "Cr         1.835790e-189  626.968009  \n",
      "age         4.273148e-01    1.226629  \n",
      "alb         3.832093e-02    4.705724  \n",
      "ca          2.926820e-09   28.348019  \n",
      "hb          2.006472e-04   12.283051  \n",
      "hco3        6.187330e-04   10.658395  \n",
      "24.455344060469344\n",
      "0.9819919293826245\n",
      "\n",
      "Model Summary for Event Type 2:\n",
      "               coef  exp(coef)  se(coef)  coef lower 95%  coef upper 95%  \\\n",
      "covariate                                                                  \n",
      "gender     0.399300   1.490781  0.030778        0.338977        0.459623   \n",
      "dm        -0.156646   0.855006  0.032618       -0.220577       -0.092716   \n",
      "ht        -0.052152   0.949184  0.028725       -0.108452        0.004148   \n",
      "sprint    -0.046045   0.954999  0.027505       -0.099954        0.007864   \n",
      "a1c        0.789869   2.203109  0.303963        0.194112        1.385627   \n",
      "po4        0.296269   1.344832  0.276795       -0.246240        0.838778   \n",
      "UACR_mg_g  0.104865   1.110561  0.061351       -0.015380        0.225110   \n",
      "Cr        -4.192354   0.015111  0.168224       -4.522067       -3.862641   \n",
      "age        1.924420   6.851176  0.120719        1.687816        2.161025   \n",
      "alb       -2.440822   0.087089  0.185037       -2.803488       -2.078157   \n",
      "ca        -1.134772   0.321495  0.341960       -1.805000       -0.464544   \n",
      "hb        -1.200533   0.301034  0.160557       -1.515219       -0.885847   \n",
      "hco3       0.629735   1.877114  0.221561        0.195485        1.063986   \n",
      "\n",
      "           exp(coef) lower 95%  exp(coef) upper 95%  cmp to          z  \\\n",
      "covariate                                                                \n",
      "gender                1.403511             1.583477     0.0  12.973746   \n",
      "dm                    0.802056             0.911452     0.0  -4.802436   \n",
      "ht                    0.897222             1.004157     0.0  -1.815558   \n",
      "sprint                0.904879             1.007895     0.0  -1.674048   \n",
      "a1c                   1.214233             3.997330     0.0   2.598568   \n",
      "po4                   0.781735             2.313538     0.0   1.070355   \n",
      "UACR_mg_g             0.984737             1.252461     0.0   1.709268   \n",
      "Cr                    0.010867             0.021012     0.0 -24.921235   \n",
      "age                   5.407655             8.680030     0.0  15.941330   \n",
      "alb                   0.060598             0.125161     0.0 -13.191004   \n",
      "ca                    0.164474             0.628422     0.0  -3.318439   \n",
      "hb                    0.219760             0.412365     0.0  -7.477302   \n",
      "hco3                  1.215900             2.897900     0.0   2.842271   \n",
      "\n",
      "                       p    -log2(p)  \n",
      "covariate                             \n",
      "gender      1.723957e-38  125.447544  \n",
      "dm          1.567466e-06   19.283134  \n",
      "ht          6.943818e-02    3.848127  \n",
      "sprint      9.412119e-02    3.409337  \n",
      "a1c         9.361345e-03    6.739068  \n",
      "po4         2.844596e-01    1.813704  \n",
      "UACR_mg_g   8.740127e-02    3.516202  \n",
      "Cr         4.380041e-137  452.973205  \n",
      "age         3.273104e-57  187.639242  \n",
      "alb         9.886001e-40  129.571737  \n",
      "ca          9.052200e-04   10.109444  \n",
      "hb          7.586413e-14   43.583575  \n",
      "hco3        4.479334e-03    7.802500  \n"
     ]
    }
   ],
   "source": [
    "# Display the summary of each model\n",
    "print(\"Model Summary for Event Type 1:\")\n",
    "print(cox_model_event_1.summary)\n",
    "print(cox_model_event_1.AIC_partial_)\n",
    "print(cox_model_event_1.concordance_index_)\n",
    "\n",
    "print(\"\\nModel Summary for Event Type 2:\")\n",
    "print(cox_model_event_2.summary)"
   ]
  },
  {
   "cell_type": "code",
   "execution_count": 30,
   "metadata": {},
   "outputs": [],
   "source": [
    "# Step 2: Predict individual cumulative hazards for each event type\n",
    "cumulative_hazard_event_1 = cox_model_event_1.predict_cumulative_hazard(X_train_transformed[FEATURE_COLS])\n",
    "cumulative_hazard_event_2 = cox_model_event_2.predict_cumulative_hazard(X_train_transformed[FEATURE_COLS])"
   ]
  },
  {
   "cell_type": "code",
   "execution_count": 31,
   "metadata": {},
   "outputs": [],
   "source": [
    "# Step 3: Compute overall survival for each individual\n",
    "# Overall survival: S(t) = exp(- (H1(t) + H2(t)))\n",
    "overall_survival = np.exp(-(cumulative_hazard_event_1 + cumulative_hazard_event_2))"
   ]
  },
  {
   "cell_type": "code",
   "execution_count": 65,
   "metadata": {},
   "outputs": [],
   "source": [
    "# Step 4: Calculate CIF for each event type\n",
    "# CIF_k(t) = ∫ h_k(u) * S(u) du (approximated as cumulative sum)\n",
    "cif_event_1 = (cumulative_hazard_event_1 * overall_survival).cumsum(axis=0)\n",
    "cif_event_2 = (cumulative_hazard_event_2 * overall_survival).cumsum(axis=0)\n",
    "cif_event_1_normalized = cif_event_1 / cif_event_1.iloc[-1].max()\n",
    "cif_event_2_normalized = cif_event_2 / cif_event_2.iloc[-1].max()\n"
   ]
  },
  {
   "cell_type": "code",
   "execution_count": 66,
   "metadata": {},
   "outputs": [
    {
     "data": {
      "text/plain": [
       "365.0     0.001461\n",
       "730.0     0.005751\n",
       "1095.0    0.012262\n",
       "1460.0    0.020153\n",
       "1825.0    0.027249\n",
       "Name: 8, dtype: float64"
      ]
     },
     "execution_count": 66,
     "metadata": {},
     "output_type": "execute_result"
    }
   ],
   "source": [
    "cif_event_1_normalized.loc[TIME_GRID[1:], 8]"
   ]
  },
  {
   "cell_type": "code",
   "execution_count": 34,
   "metadata": {},
   "outputs": [],
   "source": [
    "# Step 5: Format and display the CIF predictions\n",
    "cif_predictions = pd.DataFrame({\n",
    "    \"CIF_Event_1\": cif_event_1.iloc[:, -1],  # CIF for Event 1 at the last time point\n",
    "    \"CIF_Event_2\": cif_event_2.iloc[:, -1]   # CIF for Event 2 at the last time point\n",
    "}, index=X_train_transformed.index)"
   ]
  },
  {
   "cell_type": "code",
   "execution_count": 35,
   "metadata": {},
   "outputs": [
    {
     "data": {
      "text/html": [
       "<div>\n",
       "<style scoped>\n",
       "    .dataframe tbody tr th:only-of-type {\n",
       "        vertical-align: middle;\n",
       "    }\n",
       "\n",
       "    .dataframe tbody tr th {\n",
       "        vertical-align: top;\n",
       "    }\n",
       "\n",
       "    .dataframe thead th {\n",
       "        text-align: right;\n",
       "    }\n",
       "</style>\n",
       "<table border=\"1\" class=\"dataframe\">\n",
       "  <thead>\n",
       "    <tr style=\"text-align: right;\">\n",
       "      <th></th>\n",
       "      <th>CIF_Event_1</th>\n",
       "      <th>CIF_Event_2</th>\n",
       "    </tr>\n",
       "  </thead>\n",
       "  <tbody>\n",
       "    <tr>\n",
       "      <th>0</th>\n",
       "      <td>NaN</td>\n",
       "      <td>NaN</td>\n",
       "    </tr>\n",
       "    <tr>\n",
       "      <th>1</th>\n",
       "      <td>0.000000</td>\n",
       "      <td>0.0</td>\n",
       "    </tr>\n",
       "    <tr>\n",
       "      <th>2</th>\n",
       "      <td>0.000000</td>\n",
       "      <td>0.0</td>\n",
       "    </tr>\n",
       "    <tr>\n",
       "      <th>3</th>\n",
       "      <td>0.000000</td>\n",
       "      <td>0.0</td>\n",
       "    </tr>\n",
       "    <tr>\n",
       "      <th>4</th>\n",
       "      <td>0.000227</td>\n",
       "      <td>0.0</td>\n",
       "    </tr>\n",
       "    <tr>\n",
       "      <th>...</th>\n",
       "      <td>...</td>\n",
       "      <td>...</td>\n",
       "    </tr>\n",
       "    <tr>\n",
       "      <th>396419</th>\n",
       "      <td>NaN</td>\n",
       "      <td>NaN</td>\n",
       "    </tr>\n",
       "    <tr>\n",
       "      <th>396420</th>\n",
       "      <td>NaN</td>\n",
       "      <td>NaN</td>\n",
       "    </tr>\n",
       "    <tr>\n",
       "      <th>396421</th>\n",
       "      <td>NaN</td>\n",
       "      <td>NaN</td>\n",
       "    </tr>\n",
       "    <tr>\n",
       "      <th>396422</th>\n",
       "      <td>NaN</td>\n",
       "      <td>NaN</td>\n",
       "    </tr>\n",
       "    <tr>\n",
       "      <th>396423</th>\n",
       "      <td>NaN</td>\n",
       "      <td>NaN</td>\n",
       "    </tr>\n",
       "  </tbody>\n",
       "</table>\n",
       "<p>396424 rows × 2 columns</p>\n",
       "</div>"
      ],
      "text/plain": [
       "        CIF_Event_1  CIF_Event_2\n",
       "0               NaN          NaN\n",
       "1          0.000000          0.0\n",
       "2          0.000000          0.0\n",
       "3          0.000000          0.0\n",
       "4          0.000227          0.0\n",
       "...             ...          ...\n",
       "396419          NaN          NaN\n",
       "396420          NaN          NaN\n",
       "396421          NaN          NaN\n",
       "396422          NaN          NaN\n",
       "396423          NaN          NaN\n",
       "\n",
       "[396424 rows x 2 columns]"
      ]
     },
     "execution_count": 35,
     "metadata": {},
     "output_type": "execute_result"
    }
   ],
   "source": [
    "cif_predictions"
   ]
  }
 ],
 "metadata": {
  "kernelspec": {
   "display_name": "ai_dev",
   "language": "python",
   "name": "python3"
  },
  "language_info": {
   "codemirror_mode": {
    "name": "ipython",
    "version": 3
   },
   "file_extension": ".py",
   "mimetype": "text/x-python",
   "name": "python",
   "nbconvert_exporter": "python",
   "pygments_lexer": "ipython3",
   "version": "3.11.8"
  }
 },
 "nbformat": 4,
 "nbformat_minor": 2
}
